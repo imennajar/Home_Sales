{
  "cells": [
    {
      "cell_type": "code",
      "execution_count": null,
      "metadata": {
        "colab": {
          "base_uri": "https://localhost:8080/"
        },
        "id": "a_KW73O2e3dw",
        "outputId": "819df536-b7a8-4d55-ef17-b903dd3ae380"
      },
      "outputs": [
        {
          "name": "stdout",
          "output_type": "stream",
          "text": [
            "\r0% [Working]\r            \rHit:1 https://cloud.r-project.org/bin/linux/ubuntu jammy-cran40/ InRelease\n",
            "\r0% [Connecting to archive.ubuntu.com (185.125.190.39)] [Connecting to security.ubuntu.com] [Connecti\r                                                                                                    \rHit:2 https://developer.download.nvidia.com/compute/cuda/repos/ubuntu2204/x86_64  InRelease\n",
            "Hit:3 http://security.ubuntu.com/ubuntu jammy-security InRelease\n",
            "Hit:4 http://archive.ubuntu.com/ubuntu jammy InRelease\n",
            "Hit:5 http://archive.ubuntu.com/ubuntu jammy-updates InRelease\n",
            "Hit:6 http://archive.ubuntu.com/ubuntu jammy-backports InRelease\n",
            "Hit:7 https://ppa.launchpadcontent.net/c2d4u.team/c2d4u4.0+/ubuntu jammy InRelease\n",
            "Hit:8 https://ppa.launchpadcontent.net/deadsnakes/ppa/ubuntu jammy InRelease\n",
            "Hit:9 https://ppa.launchpadcontent.net/graphics-drivers/ppa/ubuntu jammy InRelease\n",
            "Hit:10 https://ppa.launchpadcontent.net/ubuntugis/ppa/ubuntu jammy InRelease\n",
            "Reading package lists... Done\n"
          ]
        }
      ],
      "source": [
        "import os\n",
        "# Find the latest version of spark 3.x  from http://www.apache.org/dist/spark/ and enter as the spark version\n",
        "# For example:\n",
        "# spark_version = 'spark-3.4.1'\n",
        "spark_version = 'spark-3.4.1'\n",
        "os.environ['SPARK_VERSION']=spark_version\n",
        "\n",
        "# Install Spark and Java\n",
        "!apt-get update\n",
        "!apt-get install openjdk-11-jdk-headless -qq > /dev/null\n",
        "!wget -q http://www.apache.org/dist/spark/$SPARK_VERSION/$SPARK_VERSION-bin-hadoop3.tgz\n",
        "!tar xf $SPARK_VERSION-bin-hadoop3.tgz\n",
        "!pip install -q findspark\n",
        "\n",
        "# Set Environment Variables\n",
        "os.environ[\"JAVA_HOME\"] = \"/usr/lib/jvm/java-11-openjdk-amd64\"\n",
        "os.environ[\"SPARK_HOME\"] = f\"/content/{spark_version}-bin-hadoop3\"\n",
        "\n",
        "# Start a SparkSession\n",
        "import findspark\n",
        "findspark.init()"
      ]
    },
    {
      "cell_type": "code",
      "execution_count": null,
      "metadata": {
        "id": "2XbWNf1Te5fM"
      },
      "outputs": [],
      "source": [
        "# Import packages\n",
        "from pyspark.sql import SparkSession\n",
        "import time\n",
        "\n",
        "# Create a SparkSession\n",
        "spark = SparkSession.builder.appName(\"SparkSQL\").getOrCreate()"
      ]
    },
    {
      "cell_type": "code",
      "execution_count": null,
      "metadata": {
        "colab": {
          "base_uri": "https://localhost:8080/"
        },
        "id": "wOJqxG_RPSwp",
        "outputId": "5436d6b0-ecbc-49cd-8663-54e4c382ec90"
      },
      "outputs": [
        {
          "name": "stdout",
          "output_type": "stream",
          "text": [
            "+--------------------+----------+----------+------+--------+---------+-----------+--------+------+----------+----+\n",
            "|                  id|      date|date_built| price|bedrooms|bathrooms|sqft_living|sqft_lot|floors|waterfront|view|\n",
            "+--------------------+----------+----------+------+--------+---------+-----------+--------+------+----------+----+\n",
            "|f8a53099-ba1c-47d...|2022-04-08|      2016|936923|       4|        3|       3167|   11733|     2|         1|  76|\n",
            "|7530a2d8-1ae3-451...|2021-06-13|      2013|379628|       2|        2|       2235|   14384|     1|         0|  23|\n",
            "|43de979c-0bf0-4c9...|2019-04-12|      2014|417866|       2|        2|       2127|   10575|     2|         0|   0|\n",
            "|b672c137-b88c-48b...|2019-10-16|      2016|239895|       2|        2|       1631|   11149|     2|         0|   0|\n",
            "|e0726d4d-d595-407...|2022-01-08|      2017|424418|       3|        2|       2249|   13878|     2|         0|   4|\n",
            "|5aa00529-0533-46b...|2019-01-30|      2017|218712|       2|        3|       1965|   14375|     2|         0|   7|\n",
            "|131492a1-72e2-4a8...|2020-02-08|      2017|419199|       2|        3|       2062|    8876|     2|         0|   6|\n",
            "|8d54a71b-c520-44e...|2019-07-21|      2010|323956|       2|        3|       1506|   11816|     1|         0|  25|\n",
            "|e81aacfe-17fe-46b...|2020-06-16|      2016|181925|       3|        3|       2137|   11709|     2|         0|  22|\n",
            "|2ed8d509-7372-46d...|2021-08-06|      2015|258710|       3|        3|       1918|    9666|     1|         0|  25|\n",
            "|f876d86f-3c9f-42b...|2019-02-27|      2011|167864|       3|        3|       2471|   13924|     2|         0|  15|\n",
            "|0a2bd445-8508-4d8...|2021-12-30|      2014|337527|       2|        3|       1926|   12556|     1|         0|  23|\n",
            "|941bad30-eb49-4a7...|2020-05-09|      2015|229896|       3|        3|       2197|    8641|     1|         0|   3|\n",
            "|dd61eb34-6589-4c0...|2021-07-25|      2016|210247|       3|        2|       1672|   11986|     2|         0|  28|\n",
            "|f1e4cef7-d151-439...|2019-02-01|      2011|398667|       2|        3|       2331|   11356|     1|         0|   7|\n",
            "|ea620c7b-c2f7-4c6...|2021-05-31|      2011|437958|       3|        3|       2356|   11052|     1|         0|  26|\n",
            "|f233cb41-6f33-4b0...|2021-07-18|      2016|437375|       4|        3|       1704|   11721|     2|         0|  34|\n",
            "|c797ca12-52cd-4b1...|2019-06-08|      2015|288650|       2|        3|       2100|   10419|     2|         0|   7|\n",
            "|0cfe57f3-28c2-472...|2019-10-04|      2015|308313|       3|        3|       1960|    9453|     2|         0|   2|\n",
            "|4566cd2a-ac6e-435...|2019-07-15|      2016|177541|       3|        3|       2130|   10517|     2|         0|  25|\n",
            "+--------------------+----------+----------+------+--------+---------+-----------+--------+------+----------+----+\n",
            "only showing top 20 rows\n",
            "\n"
          ]
        }
      ],
      "source": [
        "# 1. Read in the AWS S3 bucket into a DataFrame.\n",
        "from pyspark import SparkFiles\n",
        "url = \"https://2u-data-curriculum-team.s3.amazonaws.com/dataviz-classroom/v1.2/22-big-data/home_sales_revised.csv\"\n",
        "spark.sparkContext.addFile(url)\n",
        "home_sale_df = spark.read.csv(SparkFiles.get(\"home_sales_revised.csv\"), sep=\",\", header=True)\n",
        "\n",
        "# Show the home sale data.\n",
        "home_sale_df.show()\n"
      ]
    },
    {
      "cell_type": "code",
      "execution_count": null,
      "metadata": {
        "id": "RoljcJ7WPpnm"
      },
      "outputs": [],
      "source": [
        "# 2. Create a temporary view of the DataFrame.\n",
        "home_sale_df.createOrReplaceTempView(\"home_sales\")\n"
      ]
    },
    {
      "cell_type": "code",
      "execution_count": null,
      "metadata": {
        "colab": {
          "base_uri": "https://localhost:8080/"
        },
        "id": "L6fkwOeOmqvq",
        "outputId": "436bae7e-3361-4879-cbb6-19fcfcbf8150"
      },
      "outputs": [
        {
          "name": "stdout",
          "output_type": "stream",
          "text": [
            "+---------+----------+\n",
            "|year_sold| avg_price|\n",
            "+---------+----------+\n",
            "|     2019|300,263.70|\n",
            "|     2020|298,353.78|\n",
            "|     2021|301,819.44|\n",
            "|     2022|296,363.88|\n",
            "+---------+----------+\n",
            "\n"
          ]
        }
      ],
      "source": [
        "# 3. What is the average price for a four bedroom house sold in each year rounded to two decimal places?\n",
        "q1= spark.sql(\"\"\"\n",
        "    SELECT YEAR(date) AS year_sold, FORMAT_NUMBER(ROUND(AVG(price), 2), 2) AS avg_price\n",
        "    FROM home_sales\n",
        "    WHERE bedrooms = 4\n",
        "    GROUP BY year_sold\n",
        "    ORDER BY year_sold\n",
        "\"\"\").show()\n"
      ]
    },
    {
      "cell_type": "code",
      "execution_count": null,
      "metadata": {
        "colab": {
          "base_uri": "https://localhost:8080/"
        },
        "id": "l8p_tUS8h8it",
        "outputId": "3fa34044-b287-47c0-f5a0-fb130668cbe3"
      },
      "outputs": [
        {
          "name": "stdout",
          "output_type": "stream",
          "text": [
            "+----------+----------+\n",
            "|year_built| avg_price|\n",
            "+----------+----------+\n",
            "|      2010|292,859.62|\n",
            "|      2011|291,117.47|\n",
            "|      2012|293,683.19|\n",
            "|      2013|295,962.27|\n",
            "|      2014|290,852.27|\n",
            "|      2015|288,770.30|\n",
            "|      2016|290,555.07|\n",
            "|      2017|292,676.79|\n",
            "+----------+----------+\n",
            "\n"
          ]
        }
      ],
      "source": [
        "# 4. What is the average price of a home for each year the home was built that have 3 bedrooms and 3 bathrooms rounded to two decimal places?\n",
        "q2 = spark.sql(\"\"\"\n",
        "    SELECT date_built AS year_built, FORMAT_NUMBER(ROUND(AVG(price), 2), 2) AS avg_price\n",
        "    FROM home_sales\n",
        "    WHERE bedrooms = 3 AND bathrooms = 3\n",
        "    GROUP BY year_built\n",
        "    ORDER BY year_built\n",
        "\"\"\").show()"
      ]
    },
    {
      "cell_type": "code",
      "execution_count": null,
      "metadata": {
        "colab": {
          "base_uri": "https://localhost:8080/"
        },
        "id": "Y-Eytz64liDU",
        "outputId": "8bd6d869-b8f9-4bcf-a236-6b790311d80d"
      },
      "outputs": [
        {
          "name": "stdout",
          "output_type": "stream",
          "text": [
            "+----------+----------+\n",
            "|year_built| avg_price|\n",
            "+----------+----------+\n",
            "|      2010|285,010.22|\n",
            "|      2011|276,553.81|\n",
            "|      2012|307,539.97|\n",
            "|      2013|303,676.79|\n",
            "|      2014|298,264.72|\n",
            "|      2015|297,609.97|\n",
            "|      2016|293,965.10|\n",
            "|      2017|280,317.58|\n",
            "+----------+----------+\n",
            "\n"
          ]
        }
      ],
      "source": [
        "# 5. What is the average price of a home for each year built that have 3 bedrooms, 3 bathrooms, with two floors,\n",
        "# and are greater than or equal to 2,000 square feet rounded to two decimal places?\n",
        "\n",
        "q3 = spark.sql(\"\"\"\n",
        " SELECT date_built AS year_built, FORMAT_NUMBER(ROUND(AVG(price), 2), 2) AS avg_price\n",
        " FROM home_sales\n",
        " WHERE bedrooms = 3\n",
        "  AND bathrooms = 3\n",
        "  AND floors = 2\n",
        "  AND sqft_living >= 2000\n",
        " GROUP BY year_built\n",
        " ORDER BY year_built\n",
        "\"\"\").show()\n",
        "\n"
      ]
    },
    {
      "cell_type": "code",
      "execution_count": null,
      "metadata": {
        "colab": {
          "base_uri": "https://localhost:8080/"
        },
        "id": "Rz_CtmPVhqok",
        "outputId": "c39960d7-7c8c-49df-c0ba-5355df76e93d"
      },
      "outputs": [
        {
          "name": "stdout",
          "output_type": "stream",
          "text": [
            "+----+----------+\n",
            "|view| avg_price|\n",
            "+----+----------+\n",
            "|  51|788,128.21|\n",
            "|  52|733,780.26|\n",
            "|  53|755,214.80|\n",
            "|  54|798,684.82|\n",
            "|  55|771,153.32|\n",
            "|  56|718,176.40|\n",
            "|  57|734,340.50|\n",
            "|  58|759,764.65|\n",
            "|  59|791,453.00|\n",
            "|  60|754,939.65|\n",
            "|  61|746,877.59|\n",
            "|  62|759,150.14|\n",
            "|  63|711,614.55|\n",
            "|  64|767,036.67|\n",
            "|  65|736,679.93|\n",
            "|  66|712,475.00|\n",
            "|  67|737,970.96|\n",
            "|  68|716,785.44|\n",
            "|  69|750,537.94|\n",
            "|  70|695,865.58|\n",
            "+----+----------+\n",
            "only showing top 20 rows\n",
            "\n",
            "--- 0.6848580837249756 seconds ---\n"
          ]
        }
      ],
      "source": [
        "# 6. What is the \"view\" rating for the average price of a home, rounded to two decimal places, where the homes are greater than\n",
        "# or equal to $350,000? Although this is a small dataset, determine the run time for this query.\n",
        "\n",
        "start_time = time.time()\n",
        "\n",
        "q4 = spark.sql(\"\"\"\n",
        "SELECT view, FORMAT_NUMBER(ROUND(AVG(price), 2), 2) AS avg_price\n",
        "FROM home_sales\n",
        "GROUP BY view\n",
        "HAVING AVG(price) >= 350000\n",
        "ORDER BY CAST(view AS INT)\n",
        "\"\"\").show()\n",
        "\n",
        "print(\"--- %s seconds ---\" % (time.time() - start_time))"
      ]
    },
    {
      "cell_type": "code",
      "execution_count": null,
      "metadata": {
        "colab": {
          "base_uri": "https://localhost:8080/"
        },
        "id": "KAhk3ZD2tFy8",
        "outputId": "8285fd3b-50b8-4c1c-9f97-4bce19451629"
      },
      "outputs": [
        {
          "data": {
            "text/plain": [
              "DataFrame[]"
            ]
          },
          "execution_count": 62,
          "metadata": {},
          "output_type": "execute_result"
        }
      ],
      "source": [
        "# 7. Cache the the temporary table home_sales.\n",
        "spark.sql(\"CACHE TABLE home_sales\")"
      ]
    },
    {
      "cell_type": "code",
      "execution_count": null,
      "metadata": {
        "colab": {
          "base_uri": "https://localhost:8080/"
        },
        "id": "4opVhbvxtL-i",
        "outputId": "b8838c45-de84-4085-ae4d-d84af2886241"
      },
      "outputs": [
        {
          "name": "stdout",
          "output_type": "stream",
          "text": [
            "cached\n"
          ]
        }
      ],
      "source": [
        "# 8. Check if the table is cached.\n",
        "res =spark.catalog.isCached('home_sales')\n",
        "if res: print ('cached')\n",
        "else: print ('not cached')"
      ]
    },
    {
      "cell_type": "code",
      "execution_count": null,
      "metadata": {
        "colab": {
          "base_uri": "https://localhost:8080/"
        },
        "id": "l4jsWKstkIzd",
        "outputId": "9c8e9324-7da9-4dfa-dcba-8c36a65de15c"
      },
      "outputs": [
        {
          "name": "stdout",
          "output_type": "stream",
          "text": [
            "+----+----------+\n",
            "|view| avg_price|\n",
            "+----+----------+\n",
            "|  51|788,128.21|\n",
            "|  52|733,780.26|\n",
            "|  53|755,214.80|\n",
            "|  54|798,684.82|\n",
            "|  55|771,153.32|\n",
            "|  56|718,176.40|\n",
            "|  57|734,340.50|\n",
            "|  58|759,764.65|\n",
            "|  59|791,453.00|\n",
            "|  60|754,939.65|\n",
            "|  61|746,877.59|\n",
            "|  62|759,150.14|\n",
            "|  63|711,614.55|\n",
            "|  64|767,036.67|\n",
            "|  65|736,679.93|\n",
            "|  66|712,475.00|\n",
            "|  67|737,970.96|\n",
            "|  68|716,785.44|\n",
            "|  69|750,537.94|\n",
            "|  70|695,865.58|\n",
            "+----+----------+\n",
            "only showing top 20 rows\n",
            "\n",
            "--- 0.2998685836791992 seconds ---\n"
          ]
        }
      ],
      "source": [
        "# 9. Using the cached data, run the query that filters out the view ratings with average price\n",
        "#  greater than or equal to $350,000. Determine the runtime and compare it to uncached runtime.\n",
        "start_time = time.time()\n",
        "\n",
        "q5 = spark.sql(\"\"\"\n",
        "SELECT view, FORMAT_NUMBER(ROUND(AVG(price), 2), 2) AS avg_price\n",
        "FROM home_sales\n",
        "GROUP BY view\n",
        "HAVING AVG(price) >= 350000\n",
        "ORDER BY CAST(view AS INT)\n",
        "\"\"\").show()\n",
        "\n",
        "print(\"--- %s seconds ---\" % (time.time() - start_time))"
      ]
    },
    {
      "cell_type": "code",
      "execution_count": null,
      "metadata": {
        "id": "Qm12WN9isHBR"
      },
      "outputs": [],
      "source": [
        "# 10. Partition by the \"date_built\" field on the formatted parquet home sales data\n",
        "home_sale_df.write.partitionBy(\"date_built\").mode(\"overwrite\").parquet(\"date_built_partitioned\")"
      ]
    },
    {
      "cell_type": "code",
      "execution_count": null,
      "metadata": {
        "id": "AZ7BgY61sRqY"
      },
      "outputs": [],
      "source": [
        "# 11. Read the parquet formatted data.\n",
        "partitioned_home_sale_df = spark.read.parquet(\"date_built_partitioned\")"
      ]
    },
    {
      "cell_type": "code",
      "execution_count": null,
      "metadata": {
        "id": "J6MJkHfvVcvh"
      },
      "outputs": [],
      "source": [
        "# 12. Create a temporary table for the parquet data.\n",
        "partitioned_home_sale_df.createOrReplaceTempView(\"partitioned_home_sale\")"
      ]
    },
    {
      "cell_type": "code",
      "execution_count": null,
      "metadata": {
        "colab": {
          "base_uri": "https://localhost:8080/"
        },
        "id": "G_Vhb52rU1Sn",
        "outputId": "342d77f2-43da-4181-f523-18e6cf22da67"
      },
      "outputs": [
        {
          "name": "stdout",
          "output_type": "stream",
          "text": [
            "+----+----------+\n",
            "|view| avg_price|\n",
            "+----+----------+\n",
            "|  51|788,128.21|\n",
            "|  52|733,780.26|\n",
            "|  53|755,214.80|\n",
            "|  54|798,684.82|\n",
            "|  55|771,153.32|\n",
            "|  56|718,176.40|\n",
            "|  57|734,340.50|\n",
            "|  58|759,764.65|\n",
            "|  59|791,453.00|\n",
            "|  60|754,939.65|\n",
            "|  61|746,877.59|\n",
            "|  62|759,150.14|\n",
            "|  63|711,614.55|\n",
            "|  64|767,036.67|\n",
            "|  65|736,679.93|\n",
            "|  66|712,475.00|\n",
            "|  67|737,970.96|\n",
            "|  68|716,785.44|\n",
            "|  69|750,537.94|\n",
            "|  70|695,865.58|\n",
            "+----+----------+\n",
            "only showing top 20 rows\n",
            "\n",
            "--- 0.5427412986755371 seconds ---\n"
          ]
        }
      ],
      "source": [
        "# 13. Run the query that filters out the view ratings with average price of greater than or equal to $350,000\n",
        "# with the parquet DataFrame. Round your average to two decimal places.\n",
        "# Determine the runtime and compare it to the cached version.\n",
        "\n",
        "start_time = time.time()\n",
        "\n",
        "q6 = spark.sql(\"\"\"\n",
        "SELECT view, FORMAT_NUMBER(ROUND(AVG(price), 2), 2) AS avg_price\n",
        "FROM partitioned_home_sale\n",
        "GROUP BY view\n",
        "HAVING AVG(price) >= 350000\n",
        "ORDER BY CAST(view AS INT)\n",
        "\"\"\").show()\n",
        "\n",
        "print(\"--- %s seconds ---\" % (time.time() - start_time))"
      ]
    },
    {
      "cell_type": "code",
      "execution_count": null,
      "metadata": {
        "colab": {
          "base_uri": "https://localhost:8080/"
        },
        "id": "hjjYzQGjtbq8",
        "outputId": "27d8cbb7-f5ab-4652-b69f-b19d03b16b4e"
      },
      "outputs": [
        {
          "data": {
            "text/plain": [
              "DataFrame[]"
            ]
          },
          "execution_count": 69,
          "metadata": {},
          "output_type": "execute_result"
        }
      ],
      "source": [
        "# 14. Uncache the home_sales temporary table.\n",
        "spark.sql(\"UNCACHE TABLE home_sales\")"
      ]
    },
    {
      "cell_type": "code",
      "execution_count": null,
      "metadata": {
        "colab": {
          "base_uri": "https://localhost:8080/"
        },
        "id": "Sy9NBvO7tlmm",
        "outputId": "f59be539-314f-4bbd-905b-1763e1140b17"
      },
      "outputs": [
        {
          "name": "stdout",
          "output_type": "stream",
          "text": [
            "not cached\n"
          ]
        }
      ],
      "source": [
        "# 15. Check if the home_sales is no longer cached\n",
        "res =spark.catalog.isCached('home_sales')\n",
        "if res: print ('cached')\n",
        "else: print ('not cached')"
      ]
    }
  ],
  "metadata": {
    "colab": {
      "provenance": []
    },
    "gpuClass": "standard",
    "kernelspec": {
      "display_name": "Python 3 (ipykernel)",
      "language": "python",
      "name": "python3"
    },
    "language_info": {
      "codemirror_mode": {
        "name": "ipython",
        "version": 3
      },
      "file_extension": ".py",
      "mimetype": "text/x-python",
      "name": "python",
      "nbconvert_exporter": "python",
      "pygments_lexer": "ipython3",
      "version": "3.10.4"
    },
    "nteract": {
      "version": "0.28.0"
    }
  },
  "nbformat": 4,
  "nbformat_minor": 0
}
